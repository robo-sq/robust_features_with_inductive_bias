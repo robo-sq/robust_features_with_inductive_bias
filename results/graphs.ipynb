{
 "cells": [
  {
   "cell_type": "code",
   "execution_count": 1,
   "metadata": {},
   "outputs": [],
   "source": [
    "import pickle\n",
    "import matplotlib.pyplot as plt\n",
    "import numpy as np"
   ]
  },
  {
   "cell_type": "code",
   "execution_count": 79,
   "metadata": {},
   "outputs": [
    {
     "ename": "IOError",
     "evalue": "[Errno 2] No such file or directory: 'smooth_scores.pickle'",
     "output_type": "error",
     "traceback": [
      "\u001b[0;31m---------------------------------------------------------------------------\u001b[0m",
      "\u001b[0;31mIOError\u001b[0m                                   Traceback (most recent call last)",
      "\u001b[0;32m<ipython-input-79-6e600c31fc07>\u001b[0m in \u001b[0;36m<module>\u001b[0;34m()\u001b[0m\n\u001b[1;32m      2\u001b[0m     \u001b[0mattribution_results\u001b[0m \u001b[0;34m=\u001b[0m \u001b[0mpickle\u001b[0m\u001b[0;34m.\u001b[0m\u001b[0mload\u001b[0m\u001b[0;34m(\u001b[0m\u001b[0mf\u001b[0m\u001b[0;34m)\u001b[0m\u001b[0;34m\u001b[0m\u001b[0m\n\u001b[1;32m      3\u001b[0m \u001b[0;34m\u001b[0m\u001b[0m\n\u001b[0;32m----> 4\u001b[0;31m \u001b[0;32mwith\u001b[0m \u001b[0mopen\u001b[0m\u001b[0;34m(\u001b[0m\u001b[0;34m\"smooth_scores.pickle\"\u001b[0m\u001b[0;34m,\u001b[0m \u001b[0;34m\"rb\"\u001b[0m\u001b[0;34m)\u001b[0m \u001b[0;32mas\u001b[0m \u001b[0mf\u001b[0m\u001b[0;34m:\u001b[0m\u001b[0;34m\u001b[0m\u001b[0m\n\u001b[0m\u001b[1;32m      5\u001b[0m     \u001b[0msmooth_results\u001b[0m \u001b[0;34m=\u001b[0m \u001b[0mpickle\u001b[0m\u001b[0;34m.\u001b[0m\u001b[0mload\u001b[0m\u001b[0;34m(\u001b[0m\u001b[0mf\u001b[0m\u001b[0;34m)\u001b[0m\u001b[0;34m\u001b[0m\u001b[0m\n",
      "\u001b[0;31mIOError\u001b[0m: [Errno 2] No such file or directory: 'smooth_scores.pickle'"
     ]
    }
   ],
   "source": [
    "with open(\"backprop_scores.pickle\", \"rb\") as f:\n",
    "    attribution_results = pickle.load(f)\n",
    "    \n",
    "with open(\"smooth_scores.pickle\", \"rb\") as f:\n",
    "    smooth_results = pickle.load(f)"
   ]
  },
  {
   "cell_type": "code",
   "execution_count": 80,
   "metadata": {},
   "outputs": [
    {
     "data": {
      "text/plain": [
       "0.76338096432919078"
      ]
     },
     "execution_count": 80,
     "metadata": {},
     "output_type": "execute_result"
    }
   ],
   "source": [
    "np.mean(attribution_results[model_name][0])"
   ]
  },
  {
   "cell_type": "code",
   "execution_count": 82,
   "metadata": {
    "scrolled": true
   },
   "outputs": [
    {
     "data": {
      "image/png": "[encoded data removed]",
      "text/plain": [
       "<matplotlib.figure.Figure at 0x109d7c610>"
      ]
     },
     "metadata": {},
     "output_type": "display_data"
    }
   ],
   "source": [
    "model_name = 'DistNet'\n",
    "# plot box plot\n",
    "fig = plt.figure()\n",
    "plt.boxplot([attribution_results[model_name][0], attribution_results[model_name + '_noise'][0], \n",
    "             attribution_results[model_name + '_adv0'][0], \n",
    "             attribution_results[model_name + '_adv1'][0], \n",
    "             attribution_results[model_name + '_adv2'][0], attribution_results[model_name + '_adv3'][0]])\n",
    "plt.xticks([1,2,3,4,5,6,7], ['None',  'Gaussian', '100% Adv', '0/100% Adv', '0/50% Adv', 'Annealing'], rotation=45)\n",
    "# plt.title('Shallow Network')\n",
    "plt.savefig('images/' + model_name + '_' + 'backprop' + '.eps', bbox_inches = 'tight')\n",
    "plt.savefig('images/' + model_name + '_' + 'backprop' + '.png', bbox_inches = 'tight')\n",
    "plt.savefig('images/' + model_name + '_' + 'backprop' + '.pdf', bbox_inches = 'tight')\n",
    "plt.show()"
   ]
  },
  {
   "cell_type": "code",
   "execution_count": 72,
   "metadata": {},
   "outputs": [
    {
     "ename": "KeyError",
     "evalue": "'cnn_deep_noreg'",
     "output_type": "error",
     "traceback": [
      "\u001b[0;31m---------------------------------------------------------------------------\u001b[0m",
      "\u001b[0;31mKeyError\u001b[0m                                  Traceback (most recent call last)",
      "\u001b[0;32m<ipython-input-72-188d15449a7e>\u001b[0m in \u001b[0;36m<module>\u001b[0;34m()\u001b[0m\n\u001b[1;32m      2\u001b[0m \u001b[0;31m# plot box plot\u001b[0m\u001b[0;34m\u001b[0m\u001b[0;34m\u001b[0m\u001b[0m\n\u001b[1;32m      3\u001b[0m \u001b[0mfig\u001b[0m \u001b[0;34m=\u001b[0m \u001b[0mplt\u001b[0m\u001b[0;34m.\u001b[0m\u001b[0mfigure\u001b[0m\u001b[0;34m(\u001b[0m\u001b[0;34m)\u001b[0m\u001b[0;34m\u001b[0m\u001b[0m\n\u001b[0;32m----> 4\u001b[0;31m plt.boxplot([attribution_results[model_name][0], attribution_results[model_name + '_noise'][0], \n\u001b[0m\u001b[1;32m      5\u001b[0m      \u001b[0mattribution_results\u001b[0m\u001b[0;34m[\u001b[0m\u001b[0mmodel_name\u001b[0m \u001b[0;34m+\u001b[0m \u001b[0;34m'_adv1'\u001b[0m\u001b[0;34m]\u001b[0m\u001b[0;34m[\u001b[0m\u001b[0;36m0\u001b[0m\u001b[0;34m]\u001b[0m\u001b[0;34m,\u001b[0m\u001b[0;34m\u001b[0m\u001b[0m\n\u001b[1;32m      6\u001b[0m              attribution_results[model_name + '_adv2'][0], attribution_results[model_name + '_adv2'][0]])\n",
      "\u001b[0;31mKeyError\u001b[0m: 'cnn_deep_noreg'"
     ]
    }
   ],
   "source": [
    "model_name = 'cnn_deep_noreg'\n",
    "# plot box plot\n",
    "fig = plt.figure()\n",
    "plt.boxplot([attribution_results[model_name][0], attribution_results[model_name + '_noise'][0], \n",
    "     attribution_results[model_name + '_adv1'][0], \n",
    "             attribution_results[model_name + '_adv2'][0], attribution_results[model_name + '_adv2'][0]])\n",
    "plt.xticks([1,2,3,4,5,6], ['None','Gaussian', '0/100% Adv', '50% Adv', 'Annealing'], rotation=45)\n",
    "plt.title('Deep Network')\n",
    "plt.savefig('images/' + model_name + '_' + 'backprop' + '.eps', bbox_inches = 'tight')\n",
    "plt.savefig('images/' + model_name + '_' + 'backprop' + '.pdf', bbox_inches = 'tight')\n",
    "plt.show()"
   ]
  },
  {
   "cell_type": "code",
   "execution_count": 25,
   "metadata": {},
   "outputs": [
    {
     "data": {
      "text/plain": [
       "0.8370533689115276"
      ]
     },
     "execution_count": 25,
     "metadata": {},
     "output_type": "execute_result"
    }
   ],
   "source": [
    "np.median(attribution_results[model_name + '_noise'][0])"
   ]
  },
  {
   "cell_type": "code",
   "execution_count": 29,
   "metadata": {},
   "outputs": [],
   "source": [
    "with open(\"mlp_acc2.pickle\", \"rb\") as f:\n",
    "    mnist_results = pickle.load(f)\n",
    "    \n",
    "with open(\"cnn_deep_noreg_acc2.pickle\", \"rb\") as f:\n",
    "    gene_results = pickle.load(f)"
   ]
  },
  {
   "cell_type": "code",
   "execution_count": 30,
   "metadata": {},
   "outputs": [],
   "source": [
    "eps_list = np.linspace(0,1,51)\n",
    "\n",
    "\n",
    "mnist = []\n",
    "gene = []\n",
    "for e in eps_list:\n",
    "    mnist.append(np.mean(mnist_results[e]))\n",
    "    gene.append(np.mean(gene_results[e]))"
   ]
  },
  {
   "cell_type": "code",
   "execution_count": 31,
   "metadata": {},
   "outputs": [
    {
     "data": {
      "image/png": "[encoded data removed]",
      "text/plain": [
       "<matplotlib.figure.Figure at 0x10f292590>"
      ]
     },
     "metadata": {},
     "output_type": "display_data"
    }
   ],
   "source": [
    "plt.plot(eps_list, mnist, label='mnist')\n",
    "plt.plot(eps_list, gene, label='genomic')\n",
    "plt.plot(eps_list, [0.9]*len(eps_list), 'r--')\n",
    "plt.legend()\n",
    "plt.savefig('images/adv_calibration2.pdf', bbox_inches = 'tight')\n",
    "plt.show()"
   ]
  },
  {
   "cell_type": "code",
   "execution_count": 12,
   "metadata": {},
   "outputs": [
    {
     "data": {
      "text/plain": [
       "(array([], dtype=int64),)"
      ]
     },
     "execution_count": 12,
     "metadata": {},
     "output_type": "execute_result"
    }
   ],
   "source": [
    "\n",
    "np.where(mnist < 0.9)"
   ]
  },
  {
   "cell_type": "code",
   "execution_count": 28,
   "metadata": {},
   "outputs": [
    {
     "data": {
      "text/plain": [
       "0.22"
      ]
     },
     "execution_count": 28,
     "metadata": {},
     "output_type": "execute_result"
    }
   ],
   "source": [
    "eps_list[np.where(np.array(gene) < 0.9)[0][0]]"
   ]
  },
  {
   "cell_type": "code",
   "execution_count": null,
   "metadata": {},
   "outputs": [],
   "source": []
  }
 ],
 "metadata": {
  "kernelspec": {
   "display_name": "Python 2",
   "language": "python",
   "name": "python2"
  },
  "language_info": {
   "codemirror_mode": {
    "name": "ipython",
    "version": 2
   },
   "file_extension": ".py",
   "mimetype": "text/x-python",
   "name": "python",
   "nbconvert_exporter": "python",
   "pygments_lexer": "ipython2",
   "version": "2.7.14"
  }
 },
 "nbformat": 4,
 "nbformat_minor": 2
}
